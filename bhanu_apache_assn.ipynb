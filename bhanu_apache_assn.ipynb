{
 "cells": [
  {
   "cell_type": "code",
   "execution_count": 1,
   "metadata": {
    "colab": {
     "base_uri": "https://localhost:8080/"
    },
    "id": "BIuys5GUQi0D",
    "outputId": "e48e626e-2be5-4807-d9fa-6ebeeaac6f5e"
   },
   "outputs": [
    {
     "name": "stdout",
     "output_type": "stream",
     "text": [
      "Looking in indexes: https://pypi.org/simple, https://us-python.pkg.dev/colab-wheels/public/simple/\n",
      "Collecting pyspark\n",
      "  Downloading pyspark-3.3.2.tar.gz (281.4 MB)\n",
      "\u001b[2K     \u001b[90m━━━━━━━━━━━━━━━━━━━━━━━━━━━━━━━━━━━━━━━\u001b[0m \u001b[32m281.4/281.4 MB\u001b[0m \u001b[31m3.8 MB/s\u001b[0m eta \u001b[36m0:00:00\u001b[0m\n",
      "\u001b[?25h  Preparing metadata (setup.py) ... \u001b[?25l\u001b[?25hdone\n",
      "Collecting py4j==0.10.9.5\n",
      "  Downloading py4j-0.10.9.5-py2.py3-none-any.whl (199 kB)\n",
      "\u001b[2K     \u001b[90m━━━━━━━━━━━━━━━━━━━━━━━━━━━━━━━━━━━━━━\u001b[0m \u001b[32m199.7/199.7 KB\u001b[0m \u001b[31m13.8 MB/s\u001b[0m eta \u001b[36m0:00:00\u001b[0m\n",
      "\u001b[?25hBuilding wheels for collected packages: pyspark\n",
      "  Building wheel for pyspark (setup.py) ... \u001b[?25l\u001b[?25hdone\n",
      "  Created wheel for pyspark: filename=pyspark-3.3.2-py2.py3-none-any.whl size=281824028 sha256=2b9b584edb7d3d606ce3033450249bca8e753a3a3f270a5eef1ce8cd0e415389\n",
      "  Stored in directory: /root/.cache/pip/wheels/6c/e3/9b/0525ce8a69478916513509d43693511463c6468db0de237c86\n",
      "Successfully built pyspark\n",
      "Installing collected packages: py4j, pyspark\n",
      "  Attempting uninstall: py4j\n",
      "    Found existing installation: py4j 0.10.9.7\n",
      "    Uninstalling py4j-0.10.9.7:\n",
      "      Successfully uninstalled py4j-0.10.9.7\n",
      "Successfully installed py4j-0.10.9.5 pyspark-3.3.2\n"
     ]
    }
   ],
   "source": [
    "pip install pyspark"
   ]
  },
  {
   "cell_type": "code",
   "execution_count": 2,
   "metadata": {
    "id": "MH82NL0JPxeb"
   },
   "outputs": [],
   "source": [
    "from pyspark.conf import SparkConf\n",
    "from pyspark.sql import SparkSession\n",
    "from pyspark.sql.types import StructType, StructField, IntegerType, StringType, TimestampType, BooleanType, FloatType, DoubleType\n",
    "\n",
    "conf = SparkConf().setAppName(\"crime_investigators\").setMaster(\"local\")\n",
    "spark = SparkSession.builder.config(conf=conf).getOrCreate()\n",
    "schema = StructType([\n",
    "    StructField(\"ID\", IntegerType(), True),\n",
    "    StructField(\"Case Number\", StringType(), True),\n",
    "    StructField(\"Date\", StringType(), True),\n",
    "    StructField(\"Block\", StringType(), True),\n",
    "    StructField(\"IUCR\", StringType(), True),\n",
    "    StructField(\"PrimaryType\", StringType(), True),\n",
    "    StructField(\"Description\", StringType(), True),\n",
    "    StructField(\"Location Description\", StringType(), True),\n",
    "    StructField(\"Arrest\", StringType(), True),\n",
    "    StructField(\"Domestic\", StringType(), True),\n",
    "    StructField(\"Beat\", IntegerType(), True),\n",
    "    StructField(\"District\", IntegerType(), True),\n",
    "    StructField(\"Ward\", IntegerType(), True),\n",
    "    StructField(\"Community Area\", IntegerType(), True),\n",
    "    StructField(\"FBI Code\", StringType(), True),\n",
    "    StructField(\"X Coordinate\", DoubleType(), True),\n",
    "    StructField(\"Y Coordinate\", DoubleType(), True),\n",
    "    StructField(\"Year\", IntegerType(), True),\n",
    "    StructField(\"Updated On\", StringType(), True),\n",
    "    StructField(\"Latitude\", DoubleType(), True),\n",
    "    StructField(\"Longitude\", DoubleType(), True),\n",
    "    StructField(\"Location\", StringType(), True),\n",
    "])\n",
    "\n"
   ]
  },
  {
   "cell_type": "code",
   "execution_count": 3,
   "metadata": {
    "id": "kT3zHMMkP2Mc"
   },
   "outputs": [],
   "source": [
    "# Load data\n",
    "crime_data = spark.read.format(\"csv\") \\\n",
    "                    .option(\"header\", True) \\\n",
    "                    .schema(schema) \\\n",
    "                    .load(\"/content/Crimes_-_2001_to_Present.csv\")"
   ]
  },
  {
   "cell_type": "code",
   "execution_count": 4,
   "metadata": {
    "id": "xhZdVmUuTook"
   },
   "outputs": [],
   "source": [
    "# Clean data\n",
    "from pyspark.sql.functions import to_timestamp, col, year\n",
    "from pyspark.sql.types import DateType\n",
    "# filter the data for last ten years and remove specific crime reports\n",
    "crime_data = crime_data.na.drop()\n",
    "crime_data = crime_data.withColumn(\"Date\", to_timestamp(\"Date\", \"MM/dd/yyyy hh:mm:ss a\"))\n",
    "crime_data = crime_data.withColumn(\"Date\", to_timestamp(col(\"Date\"), \"MM/dd/yyyy hh:mm:ss a\").cast(DateType()))\n",
    "crime_data = crime_data.filter(year(\"Date\") >= 2012)\n",
    "crime_data = crime_data.filter(~crime_data.PrimaryType.isin(['NON-CRIMINAL (SUBJECT SPECIFIED)', 'OTHER OFFENSE', 'STALKING', 'NON - CRIMINAL', 'ARSON']))\n"
   ]
  },
  {
   "cell_type": "code",
   "execution_count": 5,
   "metadata": {
    "id": "o-AU3xYKxK41"
   },
   "outputs": [],
   "source": [
    "# Merge similar crime types\n",
    "from pyspark.sql.functions import to_timestamp, col, year, when\n",
    "crime_data = crime_data.withColumn(\"PrimaryType\", \\\n",
    "              when(col(\"PrimaryType\").isin([\"SEX OFFENSE\", \"PROSTITUTION\"]), \"SEX CRIMES\") \\\n",
    "             .when(col(\"PrimaryType\").isin([\"BATTERY\", \"ASSAULT\"]), \"ASSAULT/BATTERY\") \\\n",
    "             .when(col(\"PrimaryType\").isin([\"CRIMINAL DAMAGE\", \"VANDALISM\"]), \"DAMAGE\") \\\n",
    "             .otherwise(col(\"PrimaryType\")))"
   ]
  },
  {
   "cell_type": "code",
   "execution_count": 13,
   "metadata": {
    "colab": {
     "base_uri": "https://localhost:8080/",
     "height": 560
    },
    "id": "6rjgcL8wx3x1",
    "outputId": "2c5c43d5-5d5c-4727-b591-af2ac9168cf4"
   },
   "outputs": [
    {
     "data": {
      "image/png": "[encoded data removed]",
      "text/plain": [
       "<Figure size 432x288 with 1 Axes>"
      ]
     },
     "metadata": {
      "needs_background": "light"
     },
     "output_type": "display_data"
    },
    {
     "data": {
      "text/plain": [
       "<matplotlib.collections.PathCollection at 0x7ff9f7197f70>"
      ]
     },
     "execution_count": 13,
     "metadata": {},
     "output_type": "execute_result"
    },
    {
     "data": {
      "image/png": "[encoded data removed]",
      "text/plain": [
       "<Figure size 432x288 with 1 Axes>"
      ]
     },
     "metadata": {
      "needs_background": "light"
     },
     "output_type": "display_data"
    }
   ],
   "source": [
    "# ploting the year-wise trend of the crime for last ten years\n",
    "import matplotlib.pyplot as plt\n",
    "from pyspark.sql.functions import hour\n",
    "\n",
    "yearly_crime_count = crime_data.groupBy('Year').count()\n",
    "yearly_crime_count = yearly_crime_count.orderBy('Year')\n",
    "yearly_crime_count_df = yearly_crime_count.toPandas()\n",
    "plt.bar(yearly_crime_count_df['Year'], yearly_crime_count_df['count'])\n",
    "plt.xlabel('Year')\n",
    "plt.ylabel('Crime Count')\n",
    "plt.title('Year-wise trend of crime for last ten years')\n",
    "plt.show()\n",
    "\n",
    "\n",
    "# Create a scatter plot for showing that which hour of the day crime is highest\n",
    "\n",
    "hourly_crime_count = crime_data.groupBy(hour('Date').alias('Hour')).count()\n",
    "hourly_crime_count = hourly_crime_count.orderBy('count', ascending=False)\n",
    "hourly_crime_count_df = hourly_crime_count.toPandas()\n",
    "\n",
    "plt.scatter(hourly_crime_count_df['Hour'], hourly_crime_count_df['count'])\n",
    "\n"
   ]
  },
  {
   "cell_type": "code",
   "execution_count": 7,
   "metadata": {
    "colab": {
     "base_uri": "https://localhost:8080/",
     "height": 402
    },
    "id": "aFJ3HrL5yT6y",
    "outputId": "4e9a0412-01c0-4648-bcd2-11bcd14a911e"
   },
   "outputs": [
    {
     "data": {
      "image/png": "[encoded data removed]",
      "text/plain": [
       "<Figure size 432x288 with 1 Axes>"
      ]
     },
     "metadata": {
      "needs_background": "light"
     },
     "output_type": "display_data"
    }
   ],
   "source": [
    "# Creating a bar chart of the top ten crimes\n",
    "\n",
    "import matplotlib.pyplot as plt\n",
    "import pandas as pd\n",
    "\n",
    "\n",
    "crime_count = crime_data.groupBy('PrimaryType').count()\n",
    "top_ten_crimes = crime_count.orderBy('count', ascending=False).limit(10)\n",
    "top_ten_crimes_df = top_ten_crimes.toPandas()\n",
    "plt.bar(top_ten_crimes_df['PrimaryType'], top_ten_crimes_df['count'])\n",
    "plt.xticks(rotation=90)\n",
    "plt.xlabel('Crime Type')\n",
    "plt.ylabel('Count')\n",
    "plt.title('Top Ten Crimes')\n",
    "plt.show()\n"
   ]
  },
  {
   "cell_type": "code",
   "execution_count": null,
   "metadata": {
    "id": "2nN8Q8EE0Z3i"
   },
   "outputs": [],
   "source": []
  },
  {
   "cell_type": "code",
   "execution_count": null,
   "metadata": {
    "id": "jspuWFzT0iu6"
   },
   "outputs": [],
   "source": []
  }
 ],
 "metadata": {
  "colab": {
   "provenance": []
  },
  "kernelspec": {
   "display_name": "Python 3 (ipykernel)",
   "language": "python",
   "name": "python3"
  },
  "language_info": {
   "codemirror_mode": {
    "name": "ipython",
    "version": 3
   },
   "file_extension": ".py",
   "mimetype": "text/x-python",
   "name": "python",
   "nbconvert_exporter": "python",
   "pygments_lexer": "ipython3",
   "version": "3.9.12"
  }
 },
 "nbformat": 4,
 "nbformat_minor": 1
}
